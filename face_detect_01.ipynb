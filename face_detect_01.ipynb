{
 "cells": [
  {
   "cell_type": "code",
   "execution_count": 2,
   "metadata": {
    "id": "bXSgrJj4sn5K",
    "tags": []
   },
   "outputs": [],
   "source": [
    "import os\n",
    "import time\n",
    "#import uuid\n",
    "import cv2"
   ]
  },
  {
   "cell_type": "code",
   "execution_count": 3,
   "metadata": {
    "id": "5W_cXvrmsn5L"
   },
   "outputs": [],
   "source": [
    "import tensorflow as tf\n",
    "import json\n",
    "import numpy as np\n",
    "from matplotlib import pyplot as plt"
   ]
  },
  {
   "cell_type": "code",
   "execution_count": 4,
   "metadata": {
    "colab": {
     "base_uri": "https://localhost:8080/"
    },
    "id": "xfLozqjj4xjR",
    "outputId": "6ef716ee-3840-47d9-f299-d3caa7867e07"
   },
   "outputs": [
    {
     "name": "stdout",
     "output_type": "stream",
     "text": [
      "Drive already mounted at /content/drive; to attempt to forcibly remount, call drive.mount(\"/content/drive\", force_remount=True).\n"
     ]
    }
   ],
   "source": [
    "from google.colab import drive\n",
    "drive.mount('/content/drive')"
   ]
  },
  {
   "cell_type": "code",
   "execution_count": 5,
   "metadata": {
    "id": "q6xyh5qzP3Hw"
   },
   "outputs": [],
   "source": [
    "os.chdir(\"/home\")\n",
    "os.mkdir(\"data\")\n",
    "\n",
    "os.chdir(\"/home/data\")\n",
    "os.mkdir(\"train\")\n",
    "os.chdir(\"/home/data/train\")\n",
    "os.mkdir(\"images\")\n",
    "os.mkdir(\"labels\")\n",
    "\n",
    "os.chdir(\"//home/data\")\n",
    "os.mkdir(\"test\")\n",
    "os.chdir(\"/home/data/test\")\n",
    "os.mkdir(\"images\")\n",
    "os.mkdir(\"labels\")\n",
    "\n",
    "os.chdir(\"/home/data\")\n",
    "os.mkdir(\"val\")\n",
    "os.chdir(\"/home/data/val\")\n",
    "os.mkdir(\"images\")\n",
    "os.mkdir(\"labels\")"
   ]
  },
  {
   "cell_type": "code",
   "execution_count": 6,
   "metadata": {
    "id": "Bb5Fka6qAUEU"
   },
   "outputs": [],
   "source": [
    "data=\"/content/drive/MyDrive/facedata/data\"\n",
    "data01=\"/home/data\""
   ]
  },
  {
   "cell_type": "code",
   "execution_count": 9,
   "metadata": {
    "id": "iDjKosn84nQd"
   },
   "outputs": [],
   "source": [
    "\n",
    "import albumentations as alb\n",
    "augmentor = alb.Compose([alb.RandomCrop(width=160, height=200),\n",
    "                         alb.HorizontalFlip(p=0.5),\n",
    "                         alb.RandomBrightnessContrast(p=0.2),\n",
    "                         alb.RandomGamma(p=0.2),\n",
    "                         alb.RGBShift(p=0.2),\n",
    "                         alb.VerticalFlip(p=0.5)],\n",
    "                       bbox_params=alb.BboxParams(format='albumentations',\n",
    "                                                  label_fields=['class_labels']))\n",
    "partition =\"val\"\n",
    "jj=0\n",
    "for image in os.listdir(os.path.join(data, 'images')):\n",
    "  img = cv2.imread(os.path.join(data, 'images', image))\n",
    "\n",
    "  coords = [0,0,0.00001,0.00001]\n",
    "  label_path = os.path.join(data, 'labels', f'{image.split(\".\")[0]}.json')\n",
    "  if os.path.exists(label_path):\n",
    "      with open(label_path, 'r') as f:\n",
    "          label = json.load(f)\n",
    "\n",
    "      coords[0] = label['shapes'][0]['points'][0][0]\n",
    "      coords[1] = label['shapes'][0]['points'][0][1]\n",
    "      coords[2] = label['shapes'][0]['points'][1][0]\n",
    "      coords[3] = label['shapes'][0]['points'][1][1]\n",
    "      coords = list(np.divide(coords, [178,218,178,218]))\n",
    "\n",
    "  try:\n",
    "      for x in range(2):\n",
    "          augmented = augmentor(image=img, bboxes=[coords], class_labels=['face'])\n",
    "\n",
    "          cv2.imwrite(os.path.join(data01, partition, 'images', f'{image.split(\".\")[0]}.{x}.jpg'), augmented['image'])\n",
    "\n",
    "          annotation = {}\n",
    "          annotation['image'] = image\n",
    "\n",
    "          if os.path.exists(label_path):\n",
    "              if len(augmented['bboxes']) == 0:\n",
    "                  annotation['bbox'] = [0,0,0,0]\n",
    "                  annotation['class'] = 0\n",
    "              else:\n",
    "                  annotation['bbox'] = augmented['bboxes'][0]\n",
    "                  annotation['class'] = 1\n",
    "          else:\n",
    "              annotation['bbox'] = [0,0,0,0]\n",
    "              annotation['class'] = 0\n",
    "\n",
    "\n",
    "          with open(os.path.join(data01, partition, 'labels', f'{image.split(\".\")[0]}.{x}.json'), 'w') as f:\n",
    "              json.dump(annotation, f)\n",
    "          jj=0\n",
    "  except Exception as e:\n",
    "      print(\" there is a big problem  : ---->>>>> \",e)"
   ]
  },
  {
   "cell_type": "code",
   "execution_count": 10,
   "metadata": {
    "id": "gmWpyXbrsn5M",
    "tags": []
   },
   "outputs": [],
   "source": [
    "def load_image(x):\n",
    "    byte_img = tf.io.read_file(x)\n",
    "    img = tf.io.decode_jpeg(byte_img)\n",
    "    return img"
   ]
  },
  {
   "cell_type": "code",
   "execution_count": 11,
   "metadata": {
    "id": "3s0EUNg4sn5N"
   },
   "outputs": [],
   "source": [
    "def load_image(x):\n",
    "    byte_img = tf.io.read_file(x)\n",
    "    img = tf.io.decode_jpeg(byte_img)\n",
    "    return img"
   ]
  },
  {
   "cell_type": "code",
   "execution_count": 12,
   "metadata": {
    "id": "ml3ktgxwsn5O",
    "tags": []
   },
   "outputs": [],
   "source": [
    "train_images = tf.data.Dataset.list_files(os.path.join(data01,'train//images/*.jpg'), shuffle=False)\n",
    "train_images = train_images.map(load_image)\n",
    "train_images = train_images.map(lambda x: tf.image.resize(x, (120,120)))\n",
    "train_images = train_images.map(lambda x: x/255)"
   ]
  },
  {
   "cell_type": "code",
   "execution_count": 13,
   "metadata": {
    "id": "NSNMmtC-sn5P",
    "tags": []
   },
   "outputs": [],
   "source": [
    "test_images = tf.data.Dataset.list_files(os.path.join(data01,'test//images/*.jpg'), shuffle=False)\n",
    "test_images = test_images.map(load_image)\n",
    "test_images = test_images.map(lambda x: tf.image.resize(x, (120,120)))\n",
    "test_images = test_images.map(lambda x: x/255)"
   ]
  },
  {
   "cell_type": "code",
   "execution_count": 14,
   "metadata": {
    "id": "gA3IO8YWIZ1k",
    "tags": []
   },
   "outputs": [],
   "source": [
    "val_images = tf.data.Dataset.list_files(os.path.join(data01,'val//images/*.jpg'), shuffle=False)\n",
    "val_images = val_images.map(load_image)\n",
    "val_images = val_images.map(lambda x: tf.image.resize(x, (120,120)))\n",
    "val_images = val_images.map(lambda x: x/255)"
   ]
  },
  {
   "cell_type": "code",
   "execution_count": 15,
   "metadata": {
    "id": "5YHwEa3tsn5R",
    "tags": []
   },
   "outputs": [],
   "source": [
    "def load_labels(label_path):\n",
    "    with open(label_path.numpy(), 'r', encoding = \"utf-8\") as f:\n",
    "        label = json.load(f)\n",
    "    return [label['class']], label['bbox']\n"
   ]
  },
  {
   "cell_type": "code",
   "execution_count": 16,
   "metadata": {
    "id": "uZRGbdflsn5T",
    "tags": []
   },
   "outputs": [],
   "source": [
    "train_labels = tf.data.Dataset.list_files(os.path.join(data01,'train//labels/*.json'), shuffle=False)\n",
    "train_labels = train_labels.map(lambda x: tf.py_function(load_labels, [x], [tf.uint8, tf.float16]))"
   ]
  },
  {
   "cell_type": "code",
   "execution_count": 17,
   "metadata": {
    "id": "u3aIjFf_sn5U",
    "tags": []
   },
   "outputs": [],
   "source": [
    "test_labels = tf.data.Dataset.list_files(os.path.join(data01,'test//labels/*.json'), shuffle=False)\n",
    "test_labels = test_labels.map(lambda x: tf.py_function(load_labels, [x], [tf.uint8, tf.float16]))"
   ]
  },
  {
   "cell_type": "code",
   "execution_count": 18,
   "metadata": {
    "id": "Qi-D563Ysn5V",
    "tags": []
   },
   "outputs": [],
   "source": [
    "val_labels = tf.data.Dataset.list_files(os.path.join(data01,'val//labels/*.json'), shuffle=False)\n",
    "val_labels = val_labels.map(lambda x: tf.py_function(load_labels, [x], [tf.uint8, tf.float16]))\n"
   ]
  },
  {
   "cell_type": "code",
   "execution_count": 19,
   "metadata": {
    "id": "t9r-5mnMsn5W",
    "tags": []
   },
   "outputs": [],
   "source": [
    "train = tf.data.Dataset.zip((train_images, train_labels))\n",
    "train = train.shuffle(5000)\n",
    "train = train.batch(8)\n",
    "train = train.prefetch(4)\n"
   ]
  },
  {
   "cell_type": "code",
   "execution_count": 20,
   "metadata": {
    "id": "Mw9HpBWLsn5X",
    "tags": []
   },
   "outputs": [],
   "source": [
    "test = tf.data.Dataset.zip((test_images, test_labels))\n",
    "test = test.shuffle(1300)\n",
    "test = test.batch(8)\n",
    "test = test.prefetch(4)"
   ]
  },
  {
   "cell_type": "code",
   "execution_count": 21,
   "metadata": {
    "id": "ADLrWyF_sn5X",
    "tags": []
   },
   "outputs": [],
   "source": [
    "val = tf.data.Dataset.zip((val_images, val_labels))\n",
    "val = val.shuffle(1000)\n",
    "val = val.batch(8)\n",
    "val = val.prefetch(4)"
   ]
  },
  {
   "cell_type": "markdown",
   "metadata": {
    "id": "CRJT_Y1hsn5a"
   },
   "source": [
    "# 8. Build Deep Learning using the Functional API"
   ]
  },
  {
   "cell_type": "markdown",
   "metadata": {
    "id": "tMfb4x3Usn5b"
   },
   "source": [
    "### 8.1 Import Layers and Base Network"
   ]
  },
  {
   "cell_type": "code",
   "execution_count": 22,
   "metadata": {
    "id": "VjVLoTFNsn5c",
    "tags": []
   },
   "outputs": [],
   "source": [
    "from tensorflow.keras.models import Model ,load_model\n",
    "from tensorflow.keras.layers import Input, Conv2D, Dense, GlobalMaxPooling2D\n",
    "from tensorflow.keras.applications import VGG16\n"
   ]
  },
  {
   "cell_type": "markdown",
   "metadata": {
    "id": "qtEXDUU7sn5d"
   },
   "source": [
    "### 8.2 Download VGG16"
   ]
  },
  {
   "cell_type": "code",
   "execution_count": 23,
   "metadata": {
    "colab": {
     "base_uri": "https://localhost:8080/"
    },
    "id": "5_KMj9cGsn5d",
    "outputId": "9039bfbd-5954-426a-e981-e7defa0a7ec9",
    "tags": []
   },
   "outputs": [
    {
     "name": "stdout",
     "output_type": "stream",
     "text": [
      "Downloading data from https://storage.googleapis.com/tensorflow/keras-applications/vgg16/vgg16_weights_tf_dim_ordering_tf_kernels_notop.h5\n",
      "58889256/58889256 [==============================] - 0s 0us/step\n"
     ]
    }
   ],
   "source": [
    "vgg = VGG16(include_top=False)"
   ]
  },
  {
   "cell_type": "code",
   "execution_count": 24,
   "metadata": {
    "colab": {
     "base_uri": "https://localhost:8080/"
    },
    "id": "zwGz2uTZsn5e",
    "outputId": "2aea0cd0-ccb4-4651-aeb3-62ef8099b398",
    "tags": []
   },
   "outputs": [
    {
     "name": "stdout",
     "output_type": "stream",
     "text": [
      "Model: \"vgg16\"\n",
      "_________________________________________________________________\n",
      " Layer (type)                Output Shape              Param #   \n",
      "=================================================================\n",
      " input_1 (InputLayer)        [(None, None, None, 3)]   0         \n",
      "                                                                 \n",
      " block1_conv1 (Conv2D)       (None, None, None, 64)    1792      \n",
      "                                                                 \n",
      " block1_conv2 (Conv2D)       (None, None, None, 64)    36928     \n",
      "                                                                 \n",
      " block1_pool (MaxPooling2D)  (None, None, None, 64)    0         \n",
      "                                                                 \n",
      " block2_conv1 (Conv2D)       (None, None, None, 128)   73856     \n",
      "                                                                 \n",
      " block2_conv2 (Conv2D)       (None, None, None, 128)   147584    \n",
      "                                                                 \n",
      " block2_pool (MaxPooling2D)  (None, None, None, 128)   0         \n",
      "                                                                 \n",
      " block3_conv1 (Conv2D)       (None, None, None, 256)   295168    \n",
      "                                                                 \n",
      " block3_conv2 (Conv2D)       (None, None, None, 256)   590080    \n",
      "                                                                 \n",
      " block3_conv3 (Conv2D)       (None, None, None, 256)   590080    \n",
      "                                                                 \n",
      " block3_pool (MaxPooling2D)  (None, None, None, 256)   0         \n",
      "                                                                 \n",
      " block4_conv1 (Conv2D)       (None, None, None, 512)   1180160   \n",
      "                                                                 \n",
      " block4_conv2 (Conv2D)       (None, None, None, 512)   2359808   \n",
      "                                                                 \n",
      " block4_conv3 (Conv2D)       (None, None, None, 512)   2359808   \n",
      "                                                                 \n",
      " block4_pool (MaxPooling2D)  (None, None, None, 512)   0         \n",
      "                                                                 \n",
      " block5_conv1 (Conv2D)       (None, None, None, 512)   2359808   \n",
      "                                                                 \n",
      " block5_conv2 (Conv2D)       (None, None, None, 512)   2359808   \n",
      "                                                                 \n",
      " block5_conv3 (Conv2D)       (None, None, None, 512)   2359808   \n",
      "                                                                 \n",
      " block5_pool (MaxPooling2D)  (None, None, None, 512)   0         \n",
      "                                                                 \n",
      "=================================================================\n",
      "Total params: 14714688 (56.13 MB)\n",
      "Trainable params: 14714688 (56.13 MB)\n",
      "Non-trainable params: 0 (0.00 Byte)\n",
      "_________________________________________________________________\n"
     ]
    }
   ],
   "source": [
    "vgg.summary()"
   ]
  },
  {
   "cell_type": "code",
   "execution_count": 25,
   "metadata": {
    "id": "EguezF-asn5f",
    "tags": []
   },
   "outputs": [],
   "source": [
    "def build_model():\n",
    "    input_layer = Input(shape=(120,120,3))\n",
    "\n",
    "    vgg = VGG16(include_top=False)(input_layer)\n",
    "    f1 = GlobalMaxPooling2D()(vgg)\n",
    "    # Classification Model\n",
    "\n",
    "    class1 = Dense(2048, activation='relu')(f1)\n",
    "    class2 = Dense(1, activation='sigmoid')(class1)\n",
    "\n",
    "    # Bounding box model\n",
    "    regress1 = Dense(2048, activation='relu')(f1)\n",
    "    regress2 = Dense(4, activation='sigmoid')(regress1)\n",
    "\n",
    "    facetracker = Model(inputs=input_layer, outputs=[class2, regress2])\n",
    "\n",
    "    return facetracker"
   ]
  },
  {
   "cell_type": "code",
   "execution_count": 26,
   "metadata": {
    "id": "ZPcotHcgsn5g",
    "tags": []
   },
   "outputs": [],
   "source": [
    "facetracker = build_model()"
   ]
  },
  {
   "cell_type": "code",
   "execution_count": 27,
   "metadata": {
    "colab": {
     "base_uri": "https://localhost:8080/"
    },
    "id": "acB7Vp9tsn5h",
    "outputId": "e3cfd08d-023a-4b69-ad68-5fc9a2028803",
    "tags": []
   },
   "outputs": [
    {
     "name": "stdout",
     "output_type": "stream",
     "text": [
      "Model: \"model\"\n",
      "__________________________________________________________________________________________________\n",
      " Layer (type)                Output Shape                 Param #   Connected to                  \n",
      "==================================================================================================\n",
      " input_2 (InputLayer)        [(None, 120, 120, 3)]        0         []                            \n",
      "                                                                                                  \n",
      " vgg16 (Functional)          (None, None, None, 512)      1471468   ['input_2[0][0]']             \n",
      "                                                          8                                       \n",
      "                                                                                                  \n",
      " global_max_pooling2d (Glob  (None, 512)                  0         ['vgg16[0][0]']               \n",
      " alMaxPooling2D)                                                                                  \n",
      "                                                                                                  \n",
      " dense (Dense)               (None, 2048)                 1050624   ['global_max_pooling2d[0][0]']\n",
      "                                                                                                  \n",
      " dense_2 (Dense)             (None, 2048)                 1050624   ['global_max_pooling2d[0][0]']\n",
      "                                                                                                  \n",
      " dense_1 (Dense)             (None, 1)                    2049      ['dense[0][0]']               \n",
      "                                                                                                  \n",
      " dense_3 (Dense)             (None, 4)                    8196      ['dense_2[0][0]']             \n",
      "                                                                                                  \n",
      "==================================================================================================\n",
      "Total params: 16826181 (64.19 MB)\n",
      "Trainable params: 16826181 (64.19 MB)\n",
      "Non-trainable params: 0 (0.00 Byte)\n",
      "__________________________________________________________________________________________________\n"
     ]
    }
   ],
   "source": [
    "facetracker.summary()"
   ]
  },
  {
   "cell_type": "code",
   "execution_count": 28,
   "metadata": {
    "id": "R1T8XG2xsn5i",
    "tags": []
   },
   "outputs": [],
   "source": [
    "X, y = train.as_numpy_iterator().next()"
   ]
  },
  {
   "cell_type": "code",
   "execution_count": 29,
   "metadata": {
    "colab": {
     "base_uri": "https://localhost:8080/"
    },
    "id": "UxuSVrGJSBEn",
    "outputId": "7ebc9453-d3dd-440e-cd65-84ceb4dd331d"
   },
   "outputs": [
    {
     "name": "stdout",
     "output_type": "stream",
     "text": [
      "[[0.256   0.0911  0.7583  0.7    ]\n",
      " [0.1213  0.2278  0.816   0.8794 ]\n",
      " [0.1963  0.2178  0.8906  0.8696 ]\n",
      " [0.2164  0.11926 0.957   0.71   ]\n",
      " [0.1361  0.1802  0.78    0.8486 ]\n",
      " [0.3433  0.18    0.982   0.8096 ]\n",
      " [0.1377  0.0498  0.8784  0.7793 ]\n",
      " [0.1741  0.1458  0.781   0.8066 ]]\n"
     ]
    }
   ],
   "source": [
    "print(y[1])"
   ]
  },
  {
   "cell_type": "code",
   "execution_count": 30,
   "metadata": {
    "colab": {
     "base_uri": "https://localhost:8080/"
    },
    "id": "OfHszxngsn5i",
    "outputId": "6820ea46-9130-49f8-a316-7349297797d1",
    "tags": []
   },
   "outputs": [
    {
     "data": {
      "text/plain": [
       "(8, 120, 120, 3)"
      ]
     },
     "execution_count": 30,
     "metadata": {},
     "output_type": "execute_result"
    }
   ],
   "source": [
    "X.shape"
   ]
  },
  {
   "cell_type": "code",
   "execution_count": 31,
   "metadata": {
    "id": "j2wdTiWUiGxK"
   },
   "outputs": [],
   "source": [
    "#from tensorflow.keras.models import load_model\n",
    "#facetracker = load_model('/content/drive/MyDrive/facedata/model/facetracker03.h5')"
   ]
  },
  {
   "cell_type": "code",
   "execution_count": 32,
   "metadata": {
    "colab": {
     "base_uri": "https://localhost:8080/"
    },
    "id": "Z9bPpVmcsn5i",
    "outputId": "980217bb-694f-40d3-dd72-f3b78260877f",
    "tags": []
   },
   "outputs": [
    {
     "name": "stdout",
     "output_type": "stream",
     "text": [
      "1/1 [==============================] - 8s 8s/step\n"
     ]
    }
   ],
   "source": [
    "classes, coords = facetracker.predict(X)"
   ]
  },
  {
   "cell_type": "code",
   "execution_count": 33,
   "metadata": {
    "colab": {
     "base_uri": "https://localhost:8080/"
    },
    "id": "NolBb_vssn5j",
    "outputId": "c31895d3-0b13-4943-c886-7c0151c61265",
    "tags": []
   },
   "outputs": [
    {
     "data": {
      "text/plain": [
       "(array([[0.5873548 ],\n",
       "        [0.49502194],\n",
       "        [0.5035818 ],\n",
       "        [0.5808932 ],\n",
       "        [0.5678187 ],\n",
       "        [0.5464971 ],\n",
       "        [0.51866066],\n",
       "        [0.5404345 ]], dtype=float32),\n",
       " array([[0.4215417 , 0.5042215 , 0.38806924, 0.450871  ],\n",
       "        [0.5711697 , 0.4617089 , 0.39176306, 0.5699597 ],\n",
       "        [0.57335955, 0.4091051 , 0.40359333, 0.6119184 ],\n",
       "        [0.5726395 , 0.41670033, 0.32068843, 0.51394504],\n",
       "        [0.5609926 , 0.50148475, 0.4388446 , 0.67269343],\n",
       "        [0.48978084, 0.41302294, 0.3468875 , 0.5483579 ],\n",
       "        [0.5048297 , 0.37356773, 0.29811454, 0.50403446],\n",
       "        [0.5816498 , 0.440158  , 0.363589  , 0.48029038]], dtype=float32))"
      ]
     },
     "execution_count": 33,
     "metadata": {},
     "output_type": "execute_result"
    }
   ],
   "source": [
    "classes, coords"
   ]
  },
  {
   "cell_type": "markdown",
   "metadata": {
    "id": "q5L3O-PRsn5k"
   },
   "source": [
    "# 9. Define Losses and Optimizers"
   ]
  },
  {
   "cell_type": "markdown",
   "metadata": {
    "id": "MQmMRsufsn5k"
   },
   "source": [
    "### 9.1 Define Optimizer and LR"
   ]
  },
  {
   "cell_type": "code",
   "execution_count": 34,
   "metadata": {
    "colab": {
     "base_uri": "https://localhost:8080/"
    },
    "id": "oyA7HwrtbSZZ",
    "outputId": "808ba89e-ff1c-486e-a385-652f425429bf"
   },
   "outputs": [
    {
     "name": "stdout",
     "output_type": "stream",
     "text": [
      "My Tensor: [1 2 3 4]\n"
     ]
    }
   ],
   "source": [
    "import tensorflow as tf\n",
    "\n",
    "# Define a TensorFlow tensor\n",
    "my_tensor = tf.constant([1, 2, 3, 4], dtype=tf.uint8)\n",
    "\n",
    "# Print the content of the tensor\n",
    "tf.print(\"My Tensor:\", my_tensor)"
   ]
  },
  {
   "cell_type": "code",
   "execution_count": 35,
   "metadata": {
    "id": "YZzFwpqhsn5l",
    "tags": []
   },
   "outputs": [],
   "source": [
    "batches_per_epoch = len(train)\n",
    "lr_decay = (1./0.75 -1)/batches_per_epoch"
   ]
  },
  {
   "cell_type": "code",
   "execution_count": 36,
   "metadata": {
    "id": "IRWtJD2Psn5m",
    "tags": []
   },
   "outputs": [],
   "source": [
    "\n",
    "opt = tf.keras.optimizers.Adam(learning_rate=0.0001)\n"
   ]
  },
  {
   "cell_type": "code",
   "execution_count": 37,
   "metadata": {
    "id": "rXxm6d0Vsn5n",
    "tags": []
   },
   "outputs": [],
   "source": [
    "def localization_loss(y_true, yhat):\n",
    "\n",
    "    delta_coord = tf.reduce_sum(tf.square(y_true[:,:2] - yhat[:,:2]))\n",
    "\n",
    "    h_true = y_true[:,3] - y_true[:,1]\n",
    "    w_true = y_true[:,2] - y_true[:,0]\n",
    "\n",
    "    h_pred = yhat[:,3] - yhat[:,1]\n",
    "    w_pred = yhat[:,2] - yhat[:,0]\n",
    "    print(\"yhat\",h_pred)\n",
    "\n",
    "    delta_size = tf.reduce_sum(tf.square(w_true - w_pred) + tf.square(h_true-h_pred))\n",
    "\n",
    "    return delta_coord + delta_size"
   ]
  },
  {
   "cell_type": "code",
   "execution_count": 38,
   "metadata": {
    "id": "er2wueUNsn5o",
    "tags": []
   },
   "outputs": [],
   "source": [
    "classloss = tf.keras.losses.BinaryCrossentropy()\n",
    "regressloss = localization_loss"
   ]
  },
  {
   "cell_type": "markdown",
   "metadata": {
    "id": "jU4N6Vcssn5p"
   },
   "source": [
    "### 9.3 Test out Loss Metrics"
   ]
  },
  {
   "cell_type": "code",
   "execution_count": 39,
   "metadata": {
    "id": "cXacVUMCsn5t",
    "tags": []
   },
   "outputs": [],
   "source": [
    "class FaceTracker(Model):\n",
    "    def __init__(self, eyetracker,  **kwargs):\n",
    "        super().__init__(**kwargs)\n",
    "        self.model = eyetracker\n",
    "\n",
    "    def compile(self, opt, classloss, localizationloss, **kwargs):\n",
    "        super().compile(**kwargs)\n",
    "        self.closs = classloss\n",
    "        self.lloss = localizationloss\n",
    "        self.opt = opt\n",
    "\n",
    "\n",
    "\n",
    "    def my_function(input_tensor):\n",
    "        result = tf.square(input_tensor)  # Example operation\n",
    "        return result\n",
    "\n",
    "\n",
    "    def train_step(self, batch, **kwargs):\n",
    "\n",
    "        X, y = batch\n",
    "\n",
    "        with tf.GradientTape() as tape:\n",
    "            classes, coords = self.model(X, training=True)\n",
    "            batch_classloss = self.closs(y[0], classes)\n",
    "            batch_localizationloss = self.lloss(tf.cast(y[1], tf.float32), coords)\n",
    "            total_loss = batch_localizationloss+0.5*batch_classloss\n",
    "            grad = tape.gradient(total_loss, self.model.trainable_variables)\n",
    "        opt.apply_gradients(zip(grad, self.model.trainable_variables))\n",
    "\n",
    "        return {\"total_loss\":total_loss, \"class_loss\":batch_classloss, \"regress_loss\":batch_localizationloss}\n",
    "\n",
    "    def test_step(self, batch, **kwargs):\n",
    "        X, y = batch\n",
    "\n",
    "        classes, coords = self.model(X, training=False)\n",
    "\n",
    "        batch_classloss = self.closs(y[0], classes)\n",
    "        batch_localizationloss = self.lloss(tf.cast(y[1], tf.float32), coords)\n",
    "        total_loss = batch_localizationloss+0.5*batch_classloss\n",
    "\n",
    "        return {\"total_loss\":total_loss, \"class_loss\":batch_classloss, \"regress_loss\":batch_localizationloss}\n",
    "\n",
    "    def call(self, X, **kwargs):\n",
    "        return self.model(X, **kwargs)"
   ]
  },
  {
   "cell_type": "code",
   "execution_count": 40,
   "metadata": {
    "id": "KeBg-as5sn5t",
    "tags": []
   },
   "outputs": [],
   "source": [
    "model = FaceTracker(facetracker)"
   ]
  },
  {
   "cell_type": "code",
   "execution_count": 41,
   "metadata": {
    "id": "K3LPJ2VKsn5u",
    "tags": []
   },
   "outputs": [],
   "source": [
    "model.compile(opt, classloss, regressloss)"
   ]
  },
  {
   "cell_type": "markdown",
   "metadata": {
    "id": "mIQHAxVFsn5u"
   },
   "source": [
    "### 10.2 Train"
   ]
  },
  {
   "cell_type": "code",
   "execution_count": 42,
   "metadata": {
    "id": "-JxJiZAtsn5v",
    "tags": []
   },
   "outputs": [],
   "source": [
    "logdir='logs'"
   ]
  },
  {
   "cell_type": "code",
   "execution_count": 43,
   "metadata": {
    "id": "-6kpS0MDsn5w",
    "tags": []
   },
   "outputs": [],
   "source": [
    "tensorboard_callback = tf.keras.callbacks.TensorBoard(log_dir=logdir)"
   ]
  },
  {
   "cell_type": "code",
   "execution_count": 44,
   "metadata": {
    "colab": {
     "base_uri": "https://localhost:8080/"
    },
    "id": "HEZjQm-fsn5w",
    "outputId": "ab164323-a52b-4f03-f118-ce6b6bc7d367",
    "scrolled": true,
    "tags": []
   },
   "outputs": [
    {
     "name": "stdout",
     "output_type": "stream",
     "text": [
      "Epoch 1/30\n",
      "yhat Tensor(\"sub_3:0\", shape=(None,), dtype=float32)\n",
      "yhat Tensor(\"sub_3:0\", shape=(None,), dtype=float32)\n",
      "125/125 [==============================] - 21s 66ms/step - total_loss: 0.2814 - class_loss: 0.0115 - regress_loss: 0.2757\n",
      "Epoch 2/30\n",
      "125/125 [==============================] - 11s 59ms/step - total_loss: 0.0920 - class_loss: 1.6714e-04 - regress_loss: 0.0919\n",
      "Epoch 3/30\n",
      "125/125 [==============================] - 8s 56ms/step - total_loss: 0.0536 - class_loss: 9.1855e-05 - regress_loss: 0.0536\n",
      "Epoch 4/30\n",
      "125/125 [==============================] - 8s 55ms/step - total_loss: 0.0381 - class_loss: 2.5261e-05 - regress_loss: 0.0381\n",
      "Epoch 5/30\n",
      "125/125 [==============================] - 9s 57ms/step - total_loss: 0.0235 - class_loss: 1.7832e-05 - regress_loss: 0.0235\n",
      "Epoch 6/30\n",
      "125/125 [==============================] - 8s 58ms/step - total_loss: 0.0155 - class_loss: 9.6818e-06 - regress_loss: 0.0155\n",
      "Epoch 7/30\n",
      "125/125 [==============================] - 8s 57ms/step - total_loss: 0.0161 - class_loss: 7.5365e-06 - regress_loss: 0.0161\n",
      "Epoch 8/30\n",
      "125/125 [==============================] - 8s 59ms/step - total_loss: 0.0135 - class_loss: 5.5853e-06 - regress_loss: 0.0135\n",
      "Epoch 9/30\n",
      "125/125 [==============================] - 8s 58ms/step - total_loss: 0.0082 - class_loss: 4.2515e-06 - regress_loss: 0.0082\n",
      "Epoch 10/30\n",
      "125/125 [==============================] - 9s 58ms/step - total_loss: 0.0072 - class_loss: 2.6675e-06 - regress_loss: 0.0072\n",
      "Epoch 11/30\n",
      "125/125 [==============================] - 9s 63ms/step - total_loss: 0.0067 - class_loss: 1.9981e-06 - regress_loss: 0.0067\n",
      "Epoch 12/30\n",
      "125/125 [==============================] - 8s 59ms/step - total_loss: 0.0074 - class_loss: 1.4733e-06 - regress_loss: 0.0074\n",
      "Epoch 13/30\n",
      "125/125 [==============================] - 9s 61ms/step - total_loss: 0.0068 - class_loss: 1.3029e-06 - regress_loss: 0.0068\n",
      "Epoch 14/30\n",
      "125/125 [==============================] - 9s 60ms/step - total_loss: 0.0071 - class_loss: 8.8059e-07 - regress_loss: 0.0071\n",
      "Epoch 15/30\n",
      "125/125 [==============================] - 8s 59ms/step - total_loss: 0.0063 - class_loss: 7.5133e-07 - regress_loss: 0.0063\n",
      "Epoch 16/30\n",
      "125/125 [==============================] - 9s 59ms/step - total_loss: 0.0065 - class_loss: 7.8929e-07 - regress_loss: 0.0065\n",
      "Epoch 17/30\n",
      "125/125 [==============================] - 9s 60ms/step - total_loss: 0.0061 - class_loss: 6.6961e-07 - regress_loss: 0.0061\n",
      "Epoch 18/30\n",
      "125/125 [==============================] - 8s 58ms/step - total_loss: 0.0069 - class_loss: 5.2178e-07 - regress_loss: 0.0069\n",
      "Epoch 19/30\n",
      "125/125 [==============================] - 9s 59ms/step - total_loss: 0.0062 - class_loss: 5.9936e-07 - regress_loss: 0.0062\n",
      "Epoch 20/30\n",
      "125/125 [==============================] - 8s 59ms/step - total_loss: 0.0094 - class_loss: 6.3827e-07 - regress_loss: 0.0094\n",
      "Epoch 21/30\n",
      "125/125 [==============================] - 8s 59ms/step - total_loss: 0.0057 - class_loss: 5.3727e-07 - regress_loss: 0.0057\n",
      "Epoch 22/30\n",
      "125/125 [==============================] - 8s 58ms/step - total_loss: 0.0044 - class_loss: 3.8376e-07 - regress_loss: 0.0044\n",
      "Epoch 23/30\n",
      "125/125 [==============================] - 9s 60ms/step - total_loss: 0.0063 - class_loss: 3.4829e-07 - regress_loss: 0.0063\n",
      "Epoch 24/30\n",
      "125/125 [==============================] - 8s 59ms/step - total_loss: 0.0045 - class_loss: 3.2038e-07 - regress_loss: 0.0045\n",
      "Epoch 25/30\n",
      "125/125 [==============================] - 8s 59ms/step - total_loss: 0.0044 - class_loss: 3.0417e-07 - regress_loss: 0.0044\n",
      "Epoch 26/30\n",
      "125/125 [==============================] - 8s 60ms/step - total_loss: 0.0042 - class_loss: 2.5060e-07 - regress_loss: 0.0042\n",
      "Epoch 27/30\n",
      "125/125 [==============================] - 9s 60ms/step - total_loss: 0.0034 - class_loss: 1.9005e-07 - regress_loss: 0.0034\n",
      "Epoch 28/30\n",
      "125/125 [==============================] - 9s 58ms/step - total_loss: 0.0042 - class_loss: 1.7787e-07 - regress_loss: 0.0042\n",
      "Epoch 29/30\n",
      "125/125 [==============================] - 8s 60ms/step - total_loss: 0.0057 - class_loss: 1.8437e-07 - regress_loss: 0.0057\n",
      "Epoch 30/30\n",
      "125/125 [==============================] - 8s 59ms/step - total_loss: 0.0071 - class_loss: 2.5509e-07 - regress_loss: 0.0071\n"
     ]
    }
   ],
   "source": [
    "hist = model.fit(train, epochs=30, callbacks=[tensorboard_callback])\n",
    "\n",
    "#facetracker.save('/content/drive/MyDrive/facedata/model/facetracker04.h5')"
   ]
  },
  {
   "cell_type": "markdown",
   "metadata": {
    "id": "mJJSVIaQsn5x"
   },
   "source": [
    "### 10.3 Plot Performance"
   ]
  },
  {
   "cell_type": "code",
   "execution_count": 44,
   "metadata": {
    "id": "u1WnSQlCPrma"
   },
   "outputs": [],
   "source": []
  },
  {
   "cell_type": "code",
   "execution_count": 47,
   "metadata": {
    "colab": {
     "base_uri": "https://localhost:8080/",
     "height": 502
    },
    "id": "shmyXE7Osn5y",
    "outputId": "5121384f-dabb-4db0-a4d5-470899f5d805",
    "tags": []
   },
   "outputs": [
    {
     "ename": "KeyError",
     "evalue": "ignored",
     "output_type": "error",
     "traceback": [
      "\u001b[0;31m---------------------------------------------------------------------------\u001b[0m",
      "\u001b[0;31mKeyError\u001b[0m                                  Traceback (most recent call last)",
      "\u001b[0;32m<ipython-input-47-047e9cbfd98b>\u001b[0m in \u001b[0;36m<cell line: 4>\u001b[0;34m()\u001b[0m\n\u001b[1;32m      2\u001b[0m \u001b[0;34m\u001b[0m\u001b[0m\n\u001b[1;32m      3\u001b[0m \u001b[0max\u001b[0m\u001b[0;34m[\u001b[0m\u001b[0;36m0\u001b[0m\u001b[0;34m]\u001b[0m\u001b[0;34m.\u001b[0m\u001b[0mplot\u001b[0m\u001b[0;34m(\u001b[0m\u001b[0mhist\u001b[0m\u001b[0;34m.\u001b[0m\u001b[0mhistory\u001b[0m\u001b[0;34m[\u001b[0m\u001b[0;34m'total_loss'\u001b[0m\u001b[0;34m]\u001b[0m\u001b[0;34m,\u001b[0m \u001b[0mcolor\u001b[0m\u001b[0;34m=\u001b[0m\u001b[0;34m'teal'\u001b[0m\u001b[0;34m,\u001b[0m \u001b[0mlabel\u001b[0m\u001b[0;34m=\u001b[0m\u001b[0;34m'loss'\u001b[0m\u001b[0;34m)\u001b[0m\u001b[0;34m\u001b[0m\u001b[0;34m\u001b[0m\u001b[0m\n\u001b[0;32m----> 4\u001b[0;31m \u001b[0max\u001b[0m\u001b[0;34m[\u001b[0m\u001b[0;36m0\u001b[0m\u001b[0;34m]\u001b[0m\u001b[0;34m.\u001b[0m\u001b[0mplot\u001b[0m\u001b[0;34m(\u001b[0m\u001b[0mhist\u001b[0m\u001b[0;34m.\u001b[0m\u001b[0mhistory\u001b[0m\u001b[0;34m[\u001b[0m\u001b[0;34m'val_total_loss'\u001b[0m\u001b[0;34m]\u001b[0m\u001b[0;34m,\u001b[0m \u001b[0mcolor\u001b[0m\u001b[0;34m=\u001b[0m\u001b[0;34m'orange'\u001b[0m\u001b[0;34m,\u001b[0m \u001b[0mlabel\u001b[0m\u001b[0;34m=\u001b[0m\u001b[0;34m'val loss'\u001b[0m\u001b[0;34m)\u001b[0m\u001b[0;34m\u001b[0m\u001b[0;34m\u001b[0m\u001b[0m\n\u001b[0m\u001b[1;32m      5\u001b[0m \u001b[0max\u001b[0m\u001b[0;34m[\u001b[0m\u001b[0;36m0\u001b[0m\u001b[0;34m]\u001b[0m\u001b[0;34m.\u001b[0m\u001b[0mtitle\u001b[0m\u001b[0;34m.\u001b[0m\u001b[0mset_text\u001b[0m\u001b[0;34m(\u001b[0m\u001b[0;34m'Loss'\u001b[0m\u001b[0;34m)\u001b[0m\u001b[0;34m\u001b[0m\u001b[0;34m\u001b[0m\u001b[0m\n\u001b[1;32m      6\u001b[0m \u001b[0max\u001b[0m\u001b[0;34m[\u001b[0m\u001b[0;36m0\u001b[0m\u001b[0;34m]\u001b[0m\u001b[0;34m.\u001b[0m\u001b[0mlegend\u001b[0m\u001b[0;34m(\u001b[0m\u001b[0;34m)\u001b[0m\u001b[0;34m\u001b[0m\u001b[0;34m\u001b[0m\u001b[0m\n",
      "\u001b[0;31mKeyError\u001b[0m: 'val_total_loss'"
     ]
    },
    {
     "data": {
      "image/png": "[encoded data removed]",
      "text/plain": [
       "<Figure size 2000x500 with 3 Axes>"
      ]
     },
     "metadata": {},
     "output_type": "display_data"
    }
   ],
   "source": [
    "fig, ax = plt.subplots(ncols=3, figsize=(20,5))\n",
    "\n",
    "ax[0].plot(hist.history['total_loss'], color='teal', label='loss')\n",
    "ax[0].plot(hist.history['val_total_loss'], color='orange', label='val loss')\n",
    "ax[0].title.set_text('Loss')\n",
    "ax[0].legend()\n",
    "\n",
    "ax[1].plot(hist.history['class_loss'], color='teal', label='class loss')\n",
    "ax[1].plot(hist.history['val_class_loss'], color='orange', label='val class loss')\n",
    "ax[1].title.set_text('Classification Loss')\n",
    "ax[1].legend()\n",
    "\n",
    "ax[2].plot(hist.history['regress_loss'], color='teal', label='regress loss')\n",
    "ax[2].plot(hist.history['val_regress_loss'], color='orange', label='val regress loss')\n",
    "ax[2].title.set_text('Regression Loss')\n",
    "ax[2].legend()\n",
    "\n",
    "plt.show()"
   ]
  },
  {
   "cell_type": "markdown",
   "metadata": {
    "id": "siYhBm7ssn5z"
   },
   "source": [
    "# 11. Make Predictions"
   ]
  },
  {
   "cell_type": "code",
   "execution_count": 48,
   "metadata": {
    "id": "NPbioM8ejUzI"
   },
   "outputs": [],
   "source": [
    "from tensorflow.keras.models import load_model\n",
    "\n"
   ]
  },
  {
   "cell_type": "markdown",
   "metadata": {
    "id": "Q7SVF4gksn5z"
   },
   "source": [
    "### 11.1 Make Predictions on Test Set"
   ]
  },
  {
   "cell_type": "code",
   "execution_count": 56,
   "metadata": {
    "id": "9d8rkcdksn50",
    "tags": []
   },
   "outputs": [],
   "source": [
    "test_data = train.as_numpy_iterator()"
   ]
  },
  {
   "cell_type": "code",
   "execution_count": 64,
   "metadata": {
    "id": "gvTEat8fsn51",
    "tags": []
   },
   "outputs": [],
   "source": [
    "test_sample = test_data.next()\n"
   ]
  },
  {
   "cell_type": "code",
   "execution_count": 72,
   "metadata": {
    "colab": {
     "base_uri": "https://localhost:8080/"
    },
    "id": "y5j5pj-nSBNu",
    "outputId": "6fcc0bd6-e285-4a87-9652-792ef5f91819"
   },
   "outputs": [
    {
     "name": "stdout",
     "output_type": "stream",
     "text": [
      "<class 'numpy.ndarray'>\n"
     ]
    }
   ],
   "source": [
    "tt=test_sample[0]\n",
    "print(type(tt))"
   ]
  },
  {
   "cell_type": "code",
   "execution_count": 76,
   "metadata": {
    "colab": {
     "base_uri": "https://localhost:8080/"
    },
    "id": "dbQaJidpknjt",
    "outputId": "f9710068-3764-43bf-9176-f430090e5a5b"
   },
   "outputs": [
    {
     "name": "stdout",
     "output_type": "stream",
     "text": [
      "1/1 [==============================] - 1s 540ms/step\n"
     ]
    }
   ],
   "source": [
    "yhat = facetracker.predict(np.array([tt[0]]))\n"
   ]
  },
  {
   "cell_type": "code",
   "execution_count": 77,
   "metadata": {
    "colab": {
     "base_uri": "https://localhost:8080/"
    },
    "id": "uP-MFqNEZqkF",
    "outputId": "2b5cdf88-8c36-4256-90be-23ca478de8b9"
   },
   "outputs": [
    {
     "name": "stdout",
     "output_type": "stream",
     "text": [
      "[array([[0.9999999]], dtype=float32), array([[0.17539443, 0.29741868, 0.7534605 , 0.9282734 ]], dtype=float32)]\n"
     ]
    }
   ],
   "source": [
    "print(yhat)\n"
   ]
  },
  {
   "cell_type": "code",
   "execution_count": 79,
   "metadata": {
    "colab": {
     "base_uri": "https://localhost:8080/",
     "height": 1000
    },
    "id": "Bkf6k2U3sn52",
    "outputId": "18ddee3d-8cca-433c-977a-323cff61325f",
    "tags": []
   },
   "outputs": [
    {
     "name": "stderr",
     "output_type": "stream",
     "text": [
      "WARNING:matplotlib.image:Clipping input data to the valid range for imshow with RGB data ([0..1] for floats or [0..255] for integers).\n"
     ]
    },
    {
     "name": "stdout",
     "output_type": "stream",
     "text": [
      "(21, 35) (90, 111)\n"
     ]
    },
    {
     "data": {
      "image/png": "[encoded data removed]",
      "text/plain": [
       "<Figure size 2000x2000 with 4 Axes>"
      ]
     },
     "metadata": {},
     "output_type": "display_data"
    }
   ],
   "source": [
    "fig, ax = plt.subplots(ncols=4, figsize=(20,20))\n",
    "for idx in range(1):\n",
    "    sample_image = test_sample[0][idx]\n",
    "\n",
    "    sample_coords = yhat[1][idx]\n",
    "\n",
    "    if yhat[0][idx] > 0.9:\n",
    "        a=tuple(np.multiply(sample_coords[:2], [120,120]).astype(int))\n",
    "        b=tuple(np.multiply(sample_coords[2:], [120,120]).astype(int))\n",
    "        print(a,b)\n",
    "        cv2.rectangle(sample_image,a,b ,\n",
    "                            (255,0,0), 2)\n",
    "\n",
    "    ax[idx].imshow(sample_image)"
   ]
  },
  {
   "cell_type": "markdown",
   "metadata": {
    "id": "f_kjNV9ksn52"
   },
   "source": [
    "### 11.2 Save the Model"
   ]
  },
  {
   "cell_type": "code",
   "execution_count": null,
   "metadata": {
    "id": "X8mVMI5fsn52",
    "tags": []
   },
   "outputs": [],
   "source": []
  },
  {
   "cell_type": "code",
   "execution_count": null,
   "metadata": {
    "id": "8P8V-4_rsn53",
    "tags": []
   },
   "outputs": [],
   "source": [
    "#facetracker.save('facetracker.h5')"
   ]
  },
  {
   "cell_type": "markdown",
   "metadata": {
    "id": "Jwk2A8jYsn54"
   },
   "source": [
    "### 11.3 Real Time Detection"
   ]
  },
  {
   "cell_type": "code",
   "execution_count": null,
   "metadata": {
    "id": "a8F4KJPysn55"
   },
   "outputs": [],
   "source": []
  },
  {
   "cell_type": "code",
   "execution_count": 80,
   "metadata": {
    "id": "ANnXJiTnsn55",
    "tags": []
   },
   "outputs": [],
   "source": [
    "cap = cv2.VideoCapture(1)\n",
    "while cap.isOpened():\n",
    "    _ , frame = cap.read()\n",
    "    frame = frame[50:500, 50:500,:]\n",
    "\n",
    "    rgb = cv2.cvtColor(frame, cv2.COLOR_BGR2RGB)\n",
    "    resized = tf.image.resize(rgb, (120,120))\n",
    "\n",
    "    yhat = facetracker.predict(np.expand_dims(resized/255,0))\n",
    "    sample_coords = yhat[1][0]\n",
    "\n",
    "    if yhat[0] > 0.5:\n",
    "        # Controls the main rectangle\n",
    "        cv2.rectangle(frame,\n",
    "                      tuple(np.multiply(sample_coords[:2], [450,450]).astype(int)),\n",
    "                      tuple(np.multiply(sample_coords[2:], [450,450]).astype(int)),\n",
    "                            (255,0,0), 2)\n",
    "        # Controls the label rectangle\n",
    "        cv2.rectangle(frame,\n",
    "                      tuple(np.add(np.multiply(sample_coords[:2], [450,450]).astype(int),\n",
    "                                    [0,-30])),\n",
    "                      tuple(np.add(np.multiply(sample_coords[:2], [450,450]).astype(int),\n",
    "                                    [80,0])),\n",
    "                            (255,0,0), -1)\n",
    "\n",
    "        # Controls the text rendered\n",
    "        cv2.putText(frame, 'face', tuple(np.add(np.multiply(sample_coords[:2], [450,450]).astype(int),\n",
    "                                               [0,-5])),\n",
    "                    cv2.FONT_HERSHEY_SIMPLEX, 1, (255,255,255), 2, cv2.LINE_AA)\n",
    "\n",
    "    cv2.imshow('EyeTrack', frame)\n",
    "\n",
    "    if cv2.waitKey(1) & 0xFF == ord('q'):\n",
    "        break\n",
    "cap.release()\n",
    "cv2.destroyAllWindows()"
   ]
  },
  {
   "cell_type": "code",
   "execution_count": null,
   "metadata": {
    "id": "tR8oncJtsn56"
   },
   "outputs": [],
   "source": []
  },
  {
   "cell_type": "code",
   "execution_count": null,
   "metadata": {
    "id": "IAzQTfB4sn56"
   },
   "outputs": [],
   "source": []
  },
  {
   "cell_type": "code",
   "execution_count": null,
   "metadata": {
    "id": "nMsakGCZsn56"
   },
   "outputs": [],
   "source": []
  },
  {
   "cell_type": "code",
   "execution_count": null,
   "metadata": {
    "id": "wr3cCMNesn56"
   },
   "outputs": [],
   "source": []
  },
  {
   "cell_type": "code",
   "execution_count": null,
   "metadata": {
    "id": "6pdgZplcsn57"
   },
   "outputs": [],
   "source": []
  },
  {
   "cell_type": "code",
   "execution_count": null,
   "metadata": {
    "id": "-CD9PaBYsn57"
   },
   "outputs": [],
   "source": []
  },
  {
   "cell_type": "code",
   "execution_count": null,
   "metadata": {
    "id": "d2vq69rgsn57"
   },
   "outputs": [],
   "source": []
  },
  {
   "cell_type": "code",
   "execution_count": null,
   "metadata": {
    "id": "vTw1gXZ4sn58"
   },
   "outputs": [],
   "source": []
  },
  {
   "cell_type": "code",
   "execution_count": null,
   "metadata": {
    "id": "7M88pFD9sn58"
   },
   "outputs": [],
   "source": []
  },
  {
   "cell_type": "code",
   "execution_count": null,
   "metadata": {
    "id": "BRxGWN5Wsn58"
   },
   "outputs": [],
   "source": []
  },
  {
   "cell_type": "code",
   "execution_count": null,
   "metadata": {
    "id": "CS46aEj0sn58"
   },
   "outputs": [],
   "source": []
  },
  {
   "cell_type": "code",
   "execution_count": null,
   "metadata": {
    "id": "TKqWfdb9sn59"
   },
   "outputs": [],
   "source": []
  }
 ],
 "metadata": {
  "accelerator": "GPU",
  "colab": {
   "gpuType": "T4",
   "provenance": []
  },
  "kernelspec": {
   "display_name": "Python 3 (ipykernel)",
   "language": "python",
   "name": "python3"
  },
  "language_info": {
   "codemirror_mode": {
    "name": "ipython",
    "version": 3
   },
   "file_extension": ".py",
   "mimetype": "text/x-python",
   "name": "python",
   "nbconvert_exporter": "python",
   "pygments_lexer": "ipython3",
   "version": "3.10.12"
  }
 },
 "nbformat": 4,
 "nbformat_minor": 4
}
